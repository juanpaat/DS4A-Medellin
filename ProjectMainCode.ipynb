{
 "cells": [
  {
   "cell_type": "code",
   "execution_count": 3,
   "metadata": {},
   "outputs": [
    {
     "ename": "ModuleNotFoundError",
     "evalue": "No module named 'pandas'",
     "output_type": "error",
     "traceback": [
      "\u001b[1;31m---------------------------------------------------------------------------\u001b[0m",
      "\u001b[1;31mModuleNotFoundError\u001b[0m                       Traceback (most recent call last)",
      "\u001b[1;32mc:\\Users\\Juan Pablo\\Desktop\\DS4A\\DS4A-Medellin\\ProjectMainCode.ipynb Celda 1\u001b[0m in \u001b[0;36m<cell line: 1>\u001b[1;34m()\u001b[0m\n\u001b[1;32m----> <a href='vscode-notebook-cell:/c%3A/Users/Juan%20Pablo/Desktop/DS4A/DS4A-Medellin/ProjectMainCode.ipynb#W4sZmlsZQ%3D%3D?line=0'>1</a>\u001b[0m \u001b[39mimport\u001b[39;00m \u001b[39mpandas\u001b[39;00m \u001b[39mas\u001b[39;00m \u001b[39mpd\u001b[39;00m\n",
      "\u001b[1;31mModuleNotFoundError\u001b[0m: No module named 'pandas'"
     ]
    }
   ],
   "source": [
    "import pandas as pd      #Importamos la libreria pandas como pd"
   ]
  },
  {
   "cell_type": "code",
   "execution_count": 3,
   "metadata": {},
   "outputs": [],
   "source": [
    "url_Mortalidad = \"https://raw.githubusercontent.com/juanpaat/DS4A-Medellin/main/WHOMortalityDatabase_Trends_years_many_countries_by_age_sex-All%20Causes_8th%20agosto%202022%2020_22.csv\"\n",
    "url_Energy_use = 'https://raw.githubusercontent.com/juanpaat/DS4A-Medellin/main/Energy%20use%20(kg%20of%20oil%20equivalent%20per%20capita).csv'\n",
    "url_Exports_goods_services = 'https://raw.githubusercontent.com/juanpaat/DS4A-Medellin/main/Exports%20of%20goods%20and%20services%20(%25%20of%20GDP).csv'\n",
    "url_fuel_consumotion = 'https://raw.githubusercontent.com/juanpaat/DS4A-Medellin/main/Fossil%20fuel%20energy%20consumption%20(%25%20of%20total).csv'\n",
    "url_GDP_growth = 'https://raw.githubusercontent.com/juanpaat/DS4A-Medellin/main/GDP%20growth%20(annual%20%25).csv'\n",
    "url_GDP_growth_percapita = 'https://raw.githubusercontent.com/juanpaat/DS4A-Medellin/main/GDP%20per%20capita%20growth%20(annual%20%25).csv'\n",
    "url_Education_expenditure = 'https://raw.githubusercontent.com/juanpaat/DS4A-Medellin/main/Government%20expenditure%20on%20education%2C%20total%20(%25%20of%20GDP).csv'\n",
    "url_inflation = 'https://raw.githubusercontent.com/juanpaat/DS4A-Medellin/main/Inflation%2C%20GDP%20deflator%20(annual%20%25).csv'\n",
    "url_Adult_literacy = 'https://raw.githubusercontent.com/juanpaat/DS4A-Medellin/main/Literacy%20rate%2C%20adult%20total%20(%25%20of%20people%20ages%2015%20and%20above).csv'\n",
    "url_Youth_literacy = 'https://raw.githubusercontent.com/juanpaat/DS4A-Medellin/main/Literacy%20rate%2C%20youth%20total%20(%25%20of%20people%20ages%2015-24).csv'\n",
    "url_Primary_completion = 'https://raw.githubusercontent.com/juanpaat/DS4A-Medellin/main/Primary%20completion%20rate%2C%20total%20(%25%20of%20relevant%20age%20group).csv'\n",
    "url_Pupil_teacher_ratio = 'https://raw.githubusercontent.com/juanpaat/DS4A-Medellin/main/Pupil-teacher%20ratio%2C%20primary.csv'\n"
   ]
  },
  {
   "cell_type": "code",
   "execution_count": 4,
   "metadata": {},
   "outputs": [
    {
     "ename": "NameError",
     "evalue": "name 'pd' is not defined",
     "output_type": "error",
     "traceback": [
      "\u001b[1;31m---------------------------------------------------------------------------\u001b[0m",
      "\u001b[1;31mNameError\u001b[0m                                 Traceback (most recent call last)",
      "\u001b[1;32mUntitled-1.ipynb Celda 3\u001b[0m in \u001b[0;36m<cell line: 1>\u001b[1;34m()\u001b[0m\n\u001b[1;32m----> <a href='vscode-notebook-cell:Untitled-1.ipynb?jupyter-notebook#W1sdW50aXRsZWQ%3D?line=0'>1</a>\u001b[0m Mortalidad \u001b[39m=\u001b[39m pd\u001b[39m.\u001b[39mread_csv(url_Mortalidad,skiprows\u001b[39m=\u001b[39m[\u001b[39m0\u001b[39m,\u001b[39m1\u001b[39m,\u001b[39m2\u001b[39m,\u001b[39m3\u001b[39m,\u001b[39m4\u001b[39m,\u001b[39m5\u001b[39m] , header\u001b[39m=\u001b[39m\u001b[39m0\u001b[39m ,index_col\u001b[39m=\u001b[39m\u001b[39mFalse\u001b[39;00m)\n\u001b[0;32m      <a href='vscode-notebook-cell:Untitled-1.ipynb?jupyter-notebook#W1sdW50aXRsZWQ%3D?line=1'>2</a>\u001b[0m Energy_use \u001b[39m=\u001b[39m pd\u001b[39m.\u001b[39mread_csv(url_Energy_use,skiprows\u001b[39m=\u001b[39m[\u001b[39m0\u001b[39m,\u001b[39m1\u001b[39m,\u001b[39m2\u001b[39m,\u001b[39m3\u001b[39m] , header\u001b[39m=\u001b[39m\u001b[39m0\u001b[39m ,index_col\u001b[39m=\u001b[39m\u001b[39mFalse\u001b[39;00m)\n\u001b[0;32m      <a href='vscode-notebook-cell:Untitled-1.ipynb?jupyter-notebook#W1sdW50aXRsZWQ%3D?line=2'>3</a>\u001b[0m Exports_goods_services \u001b[39m=\u001b[39m pd\u001b[39m.\u001b[39mread_csv(url_Exports_goods_services,skiprows\u001b[39m=\u001b[39m[\u001b[39m0\u001b[39m,\u001b[39m1\u001b[39m,\u001b[39m2\u001b[39m,\u001b[39m3\u001b[39m] , header\u001b[39m=\u001b[39m\u001b[39m0\u001b[39m ,index_col\u001b[39m=\u001b[39m\u001b[39mFalse\u001b[39;00m)       \n",
      "\u001b[1;31mNameError\u001b[0m: name 'pd' is not defined"
     ]
    }
   ],
   "source": [
    "Mortalidad = pd.read_csv(url_Mortalidad,skiprows=[0,1,2,3,4,5] , header=0 ,index_col=False)\n",
    "Energy_use = pd.read_csv(url_Energy_use,skiprows=[0,1,2,3] , header=0 ,index_col=False)\n",
    "Exports_goods_services = pd.read_csv(url_Exports_goods_services,skiprows=[0,1,2,3] , header=0 ,index_col=False)       \n",
    "fuel_consumotion = pd.read_csv(url_fuel_consumotion,skiprows=[0,1,2,3] , header=0 ,index_col=False)\n",
    "GDP_growth = pd.read_csv(url_GDP_growth,skiprows=[0,1,2,3] , header=0 ,index_col=False)\n",
    "GDP_growth_percapita = pd.read_csv(url_GDP_growth_percapita,skiprows=[0,1,2,3] , header=0 ,index_col=False)\n",
    "Education_expenditure = pd.read_csv(url_Education_expenditure,skiprows=[0,1,2,3] , header=0 ,index_col=False)\n",
    "inflation = pd.read_csv(url_inflation,skiprows=[0,1,2,3] , header=0 ,index_col=False)\n",
    "Adult_literacy = pd.read_csv(url_Adult_literacy,skiprows=[0,1,2,3] , header=0 ,index_col=False)\n",
    "Youth_literacy = pd.read_csv(url_Youth_literacy,skiprows=[0,1,2,3] , header=0 ,index_col=False)\n",
    "Primary_completion = pd.read_csv(url_Primary_completion,skiprows=[0,1,2,3] , header=0 ,index_col=False)\n",
    "Pupil_teacher_ratio = pd.read_csv(url_Pupil_teacher_ratio,skiprows=[0,1,2,3] , header=0 ,index_col=False)\n",
    "\n",
    "\n"
   ]
  },
  {
   "cell_type": "code",
   "execution_count": null,
   "metadata": {},
   "outputs": [],
   "source": [
    "Mortalidad.head()    #revisamos como luce nuestro dataframe"
   ]
  }
 ],
 "metadata": {
  "kernelspec": {
   "display_name": "Python 3.10.6 64-bit",
   "language": "python",
   "name": "python3"
  },
  "language_info": {
   "codemirror_mode": {
    "name": "ipython",
    "version": 3
   },
   "file_extension": ".py",
   "mimetype": "text/x-python",
   "name": "python",
   "nbconvert_exporter": "python",
   "pygments_lexer": "ipython3",
   "version": "3.10.6"
  },
  "orig_nbformat": 4,
  "vscode": {
   "interpreter": {
    "hash": "90e89547acb338ba5ba4b415ca3f81594a7b62658e30b58cd862c93caa4649f6"
   }
  }
 },
 "nbformat": 4,
 "nbformat_minor": 2
}
